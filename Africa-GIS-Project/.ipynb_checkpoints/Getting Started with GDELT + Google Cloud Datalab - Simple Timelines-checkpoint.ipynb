{
 "cells": [
  {
   "cell_type": "markdown",
   "metadata": {},
   "source": [
    "Getting Started with GDELT + Google Cloud Datalab: Simple Timelines\n",
    "---\n",
    "\n",
    "Some simple examples for getting started using GDELT in Google Cloud Datalab."
   ]
  },
  {
   "cell_type": "markdown",
   "metadata": {},
   "source": [
    "Creating Event Timelines (1979-Present)"
   ]
  },
  {
   "cell_type": "code",
   "execution_count": 1,
   "metadata": {},
   "outputs": [
    {
     "name": "stderr",
     "output_type": "stream",
     "text": [
      "UsageError: Cell magic `%%sql` not found.\n"
     ]
    }
   ],
   "source": [
    "%%sql --module ukraineconflicttimeline\n",
    "\n",
    "#NOTE: string(MonthYear) converts the date to a string so the timeline below will treat as categorical labels \n",
    "SELECT string(MonthYear) MonthYear, INTEGER(norm*100000)/1000 Intensity\n",
    "FROM (\n",
    "SELECT ActionGeo_CountryCode, QuadClass, MonthYear, COUNT(1) AS c, RATIO_TO_REPORT(c) OVER(PARTITION BY MonthYear ORDER BY c DESC) norm FROM [gdelt-bq:full.events]\n",
    "GROUP BY ActionGeo_CountryCode, QuadClass, MonthYear\n",
    ")\n",
    "WHERE ActionGeo_CountryCode='UP' and QuadClass=4\n",
    "ORDER BY ActionGeo_CountryCode, QuadClass, MonthYear;"
   ]
  },
  {
   "cell_type": "code",
   "execution_count": null,
   "metadata": {},
   "outputs": [],
   "source": [
    "%%chart line --fields MonthYear,Intensity --data ukraineconflicttimeline\n",
    "height: 300\n",
    "title: 'Ukraine Conflict Timeline'"
   ]
  },
  {
   "cell_type": "code",
   "execution_count": null,
   "metadata": {},
   "outputs": [],
   "source": [
    "%%sql --module ukraineprotesttimeline\n",
    "\n",
    "#NOTE: string(MonthYear) converts the date to a string so the timeline below will treat as categorical labels \n",
    "SELECT string(MonthYear) MonthYear, INTEGER(norm*100000)/1000 Intensity\n",
    "FROM (\n",
    "SELECT ActionGeo_CountryCode, EventRootCode, MonthYear, COUNT(1) AS c, RATIO_TO_REPORT(c) OVER(PARTITION BY MonthYear ORDER BY c DESC) norm FROM [gdelt-bq:full.events]\n",
    "GROUP BY ActionGeo_CountryCode, EventRootCode, MonthYear\n",
    ")\n",
    "WHERE ActionGeo_CountryCode='UP' and EventRootCode='14'\n",
    "ORDER BY ActionGeo_CountryCode, EventRootCode, MonthYear;"
   ]
  },
  {
   "cell_type": "code",
   "execution_count": null,
   "metadata": {},
   "outputs": [],
   "source": [
    "%%chart line --fields MonthYear,Intensity --data ukraineprotesttimeline\n",
    "height: 300\n",
    "title: 'Ukraine Protest Timeline'"
   ]
  },
  {
   "cell_type": "markdown",
   "metadata": {},
   "source": [
    "Creating Media Attention Timelines (February 18, 2015 to Present)"
   ]
  },
  {
   "cell_type": "code",
   "execution_count": 2,
   "metadata": {},
   "outputs": [
    {
     "name": "stderr",
     "output_type": "stream",
     "text": [
      "UsageError: Cell magic `%%sql` not found.\n"
     ]
    }
   ],
   "source": [
    "%%sql --module nepalvanuatumediaattention\n",
    "\n",
    "SELECT day, sum_nepal/c Nepal, sum_vanuatu/c Vanuatu\n",
    "FROM (\n",
    "select string(integer(DATE/1000000)) as day, SUM(V2Locations like '%Nepal%') sum_nepal, SUM(V2Locations like '%Vanuatu%') sum_vanuatu, count(1) c\n",
    "FROM [gdelt-bq:gdeltv2.gkg] \n",
    "     group by day ) \n",
    "order by day"
   ]
  },
  {
   "cell_type": "code",
   "execution_count": null,
   "metadata": {},
   "outputs": [],
   "source": [
    "%%chart line --fields day,Nepal,Vanuatu --data nepalvanuatumediaattention\n",
    "height: 400\n",
    "title: 'Nepal vs Vanuatu Media Attention'"
   ]
  }
 ],
 "metadata": {
  "kernelspec": {
   "display_name": "Python 3",
   "language": "python",
   "name": "python3"
  },
  "language_info": {
   "codemirror_mode": {
    "name": "ipython",
    "version": 3
   },
   "file_extension": ".py",
   "mimetype": "text/x-python",
   "name": "python",
   "nbconvert_exporter": "python",
   "pygments_lexer": "ipython3",
   "version": "3.8.3"
  }
 },
 "nbformat": 4,
 "nbformat_minor": 1
}
